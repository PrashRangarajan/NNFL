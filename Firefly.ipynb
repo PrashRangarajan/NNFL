{
 "cells": [
  {
   "cell_type": "code",
   "execution_count": null,
   "metadata": {
    "ExecuteTime": {
     "end_time": "2019-04-19T13:29:19.073066Z",
     "start_time": "2019-04-19T13:29:18.718396Z"
    }
   },
   "outputs": [],
   "source": [
    "import pandas as pd\n",
    "import numpy as np\n",
    "import math\n",
    "import random \n",
    "from numpy import linalg as LA\n",
    "\n"
   ]
  },
  {
   "cell_type": "code",
   "execution_count": null,
   "metadata": {
    "ExecuteTime": {
     "end_time": "2019-04-19T14:06:51.887716Z",
     "start_time": "2019-04-19T14:06:51.879824Z"
    }
   },
   "outputs": [],
   "source": [
    "def firefly(f,X,alpha,beta0,gamma,maxGen, tol, minX, maxX):\n",
    "    n = X.shape\n",
    "    I = np.apply_along_axis(f,1,X)\n",
    "    globalBest = X[0]\n",
    "    scale = np.abs(maxX - minX)\n",
    "    count = 0\n",
    "    for t in range(maxGen):  \n",
    "        for i in range(n[0]):\n",
    "            for j in range(n[0]):\n",
    "                if(I[j] < I[i]):\n",
    "                    temp = X[i]\n",
    "                    X[i] = X[i] + beta0*np.exp(-gamma*(LA.norm(X[j]-X[i]))**2)*(X[j]-X[i]) + \\\n",
    "                    alpha*scale*(np.random.uniform(0,1,1)-0.5)\n",
    "                    if (f(temp) < f(X[i])):\n",
    "                         X[i] = temp\n",
    "                    X[i] = np.minimum(np.maximum(X[i], minX*np.ones(n[1])), maxX*np.ones(n[1]))\n",
    "                    count += 1\n",
    "                    I[i] = f(X[i])\n",
    "            #print(\"X\", X, \"I\", I)\n",
    "#         if (np.abs(np.min(I) - f(globalBest)) < tol):\n",
    "#             break\n",
    "        if (np.min(I) < f(globalBest)):          \n",
    "            globalBest = X[np.argmin(I)] \n",
    "    return globalBest, count, f(globalBest)"
   ]
  },
  {
   "cell_type": "code",
   "execution_count": null,
   "metadata": {
    "ExecuteTime": {
     "end_time": "2019-04-19T14:14:31.582267Z",
     "start_time": "2019-04-19T14:14:31.566407Z"
    }
   },
   "outputs": [],
   "source": [
    "def DeJong(x):\n",
    "    return np.dot(x,x)\n",
    "\n",
    "def Michalewicz(x):\n",
    "    d = x.shape[0]\n",
    "    m = 10\n",
    "    sm = 0\n",
    "    for i in range(d):\n",
    "        sm += -np.sin(x[i]) * np.sin((i+1) * x[i]**2 / np.pi )**(2*m)\n",
    "    return sm\n",
    "\n",
    "def Rosenbrock(x):\n",
    "    d = x.shape[0]\n",
    "    sm = 0\n",
    "    for i in range(d-1):\n",
    "        sm += 100*(x[i+1]-x[i]**2)**2 + (1-x[i])**2\n",
    "    return sm\n",
    "\n",
    "def Schwefel(x):\n",
    "    d = x.shape[0]\n",
    "    return 418.9829*d - np.sum(x*np.sin(np.sqrt(np.abs(x))))\n",
    "\n",
    "def Ackley(x):\n",
    "    d = x.shape[0]\n",
    "    a = 20 \n",
    "    b = 0.2 \n",
    "    c = 2*np.pi\n",
    "    return -a*np.exp(-b*np.sqrt(1/d*np.dot(x,x))) - np.exp(1/d*np.sum(np.cos(c*x))) + a + np.exp(1)\n",
    "\n",
    "def Rastrigin(x):\n",
    "    d = x.shape[0]\n",
    "    return 10*d + np.sum(x*x - 10*np.cos(2*np.pi*x))\n",
    "\n",
    "def Easom(x):\n",
    "    return -1* np.prod(np.cos(x))*np.exp(-np.sum((x-np.pi)**2))\n",
    "\n",
    "def Griewank(x):\n",
    "    d = x.shape[0]\n",
    "    sm = 1/4000*np.dot(x,x) + 1\n",
    "    sm2 = -1\n",
    "    for i in range(d):\n",
    "        sm2 *= np.cos(x[i]/np.sqrt(i+1))   \n",
    "    return sm + sm2\n",
    "\n",
    "def Shubert(x):\n",
    "    d = x.shape[0]\n",
    "    prd = 1\n",
    "    for i in range(d):\n",
    "        sm = 0\n",
    "        for j in range(5):\n",
    "            sm += (j+1)*np.cos((j+2)*x[i] + (j+1))\n",
    "        prd *= sm\n",
    "    return prd\n",
    "\n",
    "def Yang(x):\n",
    "    a =15\n",
    "    m=5\n",
    "    d = x.shape[0]\n",
    "    return (np.exp(-np.sum((x/a)**(2*m))) - 2*np.exp(-np.dot(x,x)) ) * np.prod(np.cos(x)**2)\n",
    "    "
   ]
  },
  {
   "cell_type": "code",
   "execution_count": null,
   "metadata": {
    "ExecuteTime": {
     "end_time": "2019-04-19T14:15:46.910903Z",
     "start_time": "2019-04-19T14:14:34.901593Z"
    }
   },
   "outputs": [],
   "source": [
    "maxGen = 1000\n",
    "pop_size = (40,2) #(pop_size, dim)\n",
    "tol = 1e-5\n",
    "func_list = [DeJong, Michalewicz, Rosenbrock, Schwefel, Ackley, Rastrigin, Easom, Griewank,  Shubert, Yang];\n",
    "dim_rng = [(-5.12, 5.12), (0, np.pi),(-5,10),(-500,500),(-32.768, 32.768), (-5.12, 5.12), \\\n",
    "           (-100,100) , (-600,600), (-10, 10), (-20,20)]\n",
    "\n",
    "#func_list = [Michalewicz]\n",
    "#dim_rng = [(0, np.pi)]\n",
    "           \n",
    "for itr, func in enumerate(func_list):\n",
    "    x = np.random.uniform(*dim_rng[itr],pop_size)\n",
    "    print(firefly(func,x,0.2,1,1, maxGen, tol, *dim_rng[itr]))"
   ]
  },
  {
   "cell_type": "code",
   "execution_count": null,
   "metadata": {},
   "outputs": [],
   "source": []
  }
 ],
 "metadata": {
  "kernelspec": {
   "display_name": "Python 3",
   "language": "python",
   "name": "python3"
  },
  "language_info": {
   "codemirror_mode": {
    "name": "ipython",
    "version": 3
   },
   "file_extension": ".py",
   "mimetype": "text/x-python",
   "name": "python",
   "nbconvert_exporter": "python",
   "pygments_lexer": "ipython3",
   "version": "3.6.1"
  }
 },
 "nbformat": 4,
 "nbformat_minor": 2
}
