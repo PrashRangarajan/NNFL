{
 "cells": [
  {
   "cell_type": "code",
   "execution_count": null,
   "metadata": {
    "ExecuteTime": {
     "end_time": "2019-04-19T09:42:29.834165Z",
     "start_time": "2019-04-19T09:42:29.825389Z"
    }
   },
   "outputs": [],
   "source": [
    "# def firefly_1D(f,x,alpha,beta0,gamma,maxGen, tol):\n",
    "#     n = x.shape[0]\n",
    "#     I = f(x)\n",
    "#     globalBest = 100\n",
    "#     count = 0\n",
    "#     for t in range(maxGen):  \n",
    "#         for i in range(n):\n",
    "#             for j in range(i):\n",
    "#                 if(I[j] > I[i]):\n",
    "#                     x[i] = x[i] + beta0*np.exp(-gamma*(LA.norm(x[j]-x[i]))**2)*(x[j]-x[i]) + \\\n",
    "#                     alpha*(np.random.uniform(0,1,1)-0.5)\n",
    "#                     I = f(x)\n",
    "#                     count += 1\n",
    "#          print(globalBest, \"Count\", count)\n",
    "#          print(\"np max\", np.max(I),  \"Global best\", f(globalBest))\n",
    "#         if (np.abs(np.min(I) - f(globalBest)) < tol):\n",
    "#             break\n",
    "#         if (np.min(I) < f(globalBest)):          \n",
    "#             globalBest = x[np.argmin(I)]\n",
    "       \n",
    "        \n",
    "#     return globalBest, count"
   ]
  },
  {
   "cell_type": "code",
   "execution_count": 1,
   "metadata": {
    "ExecuteTime": {
     "end_time": "2019-04-19T10:37:15.637723Z",
     "start_time": "2019-04-19T10:37:15.379104Z"
    }
   },
   "outputs": [],
   "source": [
    "import pandas as pd\n",
    "import numpy as np\n",
    "import math\n",
    "import random \n",
    "from numpy import linalg as LA\n",
    "# from np import numpy.linalg.norm as dist\n",
    "# import numpy.random.uniform as unif\n",
    "\n"
   ]
  },
  {
   "cell_type": "code",
   "execution_count": 83,
   "metadata": {
    "ExecuteTime": {
     "end_time": "2019-04-19T12:18:18.702347Z",
     "start_time": "2019-04-19T12:18:18.692461Z"
    }
   },
   "outputs": [],
   "source": [
    "def firefly(f,X,alpha,beta0,gamma,maxGen, tol, minX, maxX):\n",
    "    n = X.shape\n",
    "    I = np.apply_along_axis(f,1,X)\n",
    "#     globalBest = np.ones((1,n[1])) * maxX\n",
    "#     globalBest = globalBest[0]\n",
    "    globalBest = X[0]\n",
    "    count = 0\n",
    "    for t in range(maxGen):  \n",
    "        for i in range(n[0]):\n",
    "            for j in range(i):\n",
    "                if(I[j] < I[i]):\n",
    "                    temp = X[i]\n",
    "                    X[i] = X[i] + beta0*np.exp(-gamma*(LA.norm(X[j]-X[i]))**2)*(X[j]-X[i]) + \\\n",
    "                    alpha*(np.random.uniform(0,1,1)-0.5)\n",
    "                    if (f(temp) < f(X[i])):\n",
    "                         X[i] = temp\n",
    "                    count += 1\n",
    "                    I[i] = f(X[i])\n",
    "            #print(\"X\", X, \"I\", I)\n",
    "        print(np.min(I))\n",
    "        if (np.abs(np.min(I) - f(globalBest)) < tol):\n",
    "            break\n",
    "        if (np.min(I) < f(globalBest)):          \n",
    "            globalBest = X[np.argmin(I)]\n",
    "        #print(globalBest, f(globalBest), \"Count\", count)   \n",
    "    return globalBest, count, f(globalBest)"
   ]
  },
  {
   "cell_type": "code",
   "execution_count": 84,
   "metadata": {
    "ExecuteTime": {
     "end_time": "2019-04-19T12:18:19.027793Z",
     "start_time": "2019-04-19T12:18:19.012582Z"
    }
   },
   "outputs": [],
   "source": [
    "def DeJong(x):\n",
    "    return np.dot(x,x)\n",
    "\n",
    "def Michalewicz(x):\n",
    "    d = x.shape[0]\n",
    "    m = 10\n",
    "    sm = 0\n",
    "    for i in range(d):\n",
    "        sm += -np.sin(x[i]) * np.sin(i * x[i]**2 / np.pi )**(2*m)\n",
    "    return sm\n",
    "\n",
    "def Rosenbrock(x):\n",
    "    d = x.shape[0]\n",
    "    sm = 0\n",
    "    for i in range(d-1):\n",
    "        sm += 100*(x[i+1]-x[i]**2)**2 + (1-x[i])**2\n",
    "    return sm\n",
    "\n",
    "def Schwefel(x):\n",
    "    d = x.shape[0]\n",
    "    return 418.9829*d - np.sum(x*np.sin(np.sqrt(np.abs(x))))\n",
    "\n",
    "def Ackley(x):\n",
    "    d = x.shape[0]\n",
    "    a = 20 \n",
    "    b = 0.2 \n",
    "    c = 2*np.pi\n",
    "    return -a*np.exp(-b*np.sqrt(1/d*np.dot(x,x))) - np.exp(1/d*np.sum(np.cos(c*x))) + a + np.exp(1)\n",
    "\n",
    "def Rastrigin(x):\n",
    "    d = x.shape[0]\n",
    "    return 10*d + np.sum(x*x - 10*np.cos(2*np.pi*x))\n",
    "\n",
    "def Easom(x):\n",
    "    return -1* np.prod(np.cos(x))*np.exp(-np.sum((x-np.pi)**2))\n",
    "\n",
    "def Griewank(x):\n",
    "    d = x.shape[0]\n",
    "    sm = 1/4000*np.dot(x,x) + 1\n",
    "    sm2 = -1\n",
    "    for i in range(d):\n",
    "        sm2 *= np.cos(x[i]/np.sqrt(i+1))   \n",
    "    return sm + sm2\n",
    "\n",
    "def Shubert(x):\n",
    "    d = x.shape[0]\n",
    "    prd = 1\n",
    "    for i in range(d):\n",
    "        sm = 0\n",
    "        for j in range(5):\n",
    "            sm += (j+1)*np.cos((j+2)*x[i] + (j+1))\n",
    "        prd *= sm\n",
    "    return prd\n",
    "\n",
    "def Yang(x):\n",
    "    a =15\n",
    "    m=5\n",
    "    d = x.shape[0]\n",
    "    return (np.exp(-np.sum((x/a)**(2*m))) - 2*np.exp(-np.dot(x,x)) ) * np.prod(np.cos(x)**2)\n",
    "    "
   ]
  },
  {
   "cell_type": "code",
   "execution_count": 85,
   "metadata": {
    "ExecuteTime": {
     "end_time": "2019-04-19T12:18:19.363317Z",
     "start_time": "2019-04-19T12:18:19.278989Z"
    }
   },
   "outputs": [
    {
     "name": "stdout",
     "output_type": "stream",
     "text": [
      "[[ -0.88577168 -11.2084475 ]\n",
      " [ 17.09347132   7.16582685]\n",
      " [ 10.97831138 -17.18209966]\n",
      " [ -2.5537376   -6.48246754]\n",
      " [-15.53475459   5.57374172]\n",
      " [  5.96553125  -6.34960796]\n",
      " [ -0.1711383  -11.26170854]\n",
      " [ -0.94292126 -15.7547057 ]\n",
      " [  7.41998082 -12.0849413 ]\n",
      " [-17.54881425  14.74735605]\n",
      " [ 19.90030707   7.46468184]\n",
      " [-10.28721228 -17.93557362]\n",
      " [  5.78744747  10.17299369]\n",
      " [-15.40938146  -8.10159723]\n",
      " [ 12.95126095   7.71810894]\n",
      " [  5.67550663  -9.1394527 ]\n",
      " [-18.93289889  17.85710749]\n",
      " [ 15.62181537  10.23746577]\n",
      " [ -4.66656439  17.54178852]\n",
      " [ 11.10582464  13.04656883]\n",
      " [  5.19754314 -13.92887192]\n",
      " [ -2.78223626  -6.015248  ]\n",
      " [ 10.68734543  14.89967612]\n",
      " [-16.41385305 -13.75875408]\n",
      " [  1.52197684  -2.99893652]\n",
      " [-17.34518278   6.97133835]\n",
      " [-15.464577   -13.15848302]\n",
      " [-12.50906713  16.71558253]\n",
      " [ -5.16256489  16.17338608]\n",
      " [ -5.48847261   6.85729743]\n",
      " [ -3.88993977  -5.97740011]\n",
      " [  6.32233563   7.83954149]\n",
      " [ 19.51172891  -5.6863104 ]\n",
      " [  9.39414434  -9.02942988]\n",
      " [  9.5924591    6.96466933]\n",
      " [ 19.96956864  -9.59096499]\n",
      " [  8.23288374   7.08104749]\n",
      " [ 13.39041324   9.92186721]\n",
      " [-16.49307558  15.05307965]\n",
      " [ -1.90306025   0.82650059]]\n",
      "1.6387475275889072e-09\n",
      "1.6387475275889072e-09\n",
      "(array([19.90030707,  7.46468184]), 822, 1.6387475275889072e-09)\n"
     ]
    }
   ],
   "source": [
    "maxGen = 100\n",
    "pop_size = (40,2) #(pop_size, dim)\n",
    "tol = 1e-5\n",
    "#func_list = [DeJong, Michalewicz, Rosenbrock, Schwefel, Ackley, Rastrigin, Easom, Griewank,  Shubert, Yang];\n",
    "#dim_rng = [(-5.12, 5.12), (0, np.pi),(-5,10),(-500,500),(-32.768, 32.768), (-5.12, 5.12), \\\n",
    "#           (-100,100) , (-600,600), (-10, 10), (-20,20)]\n",
    "\n",
    "func_list = [Yang]\n",
    "dim_rng = [(-20,20)]\n",
    "for itr, func in enumerate(func_list):\n",
    "    x = np.random.uniform(*dim_rng[itr],pop_size)\n",
    "    print(x)\n",
    "    print(firefly(func,x,0.2,1,1, maxGen, tol, *dim_rng[itr]))"
   ]
  },
  {
   "cell_type": "code",
   "execution_count": 81,
   "metadata": {
    "ExecuteTime": {
     "end_time": "2019-04-19T12:17:59.467503Z",
     "start_time": "2019-04-19T12:17:59.463236Z"
    }
   },
   "outputs": [
    {
     "data": {
      "text/plain": [
       "0.00044953990766134896"
      ]
     },
     "execution_count": 81,
     "metadata": {},
     "output_type": "execute_result"
    }
   ],
   "source": [
    "Michalewicz(np.array([2,3,4]))"
   ]
  },
  {
   "cell_type": "code",
   "execution_count": 82,
   "metadata": {
    "ExecuteTime": {
     "end_time": "2019-04-19T12:17:59.884742Z",
     "start_time": "2019-04-19T12:17:59.879717Z"
    }
   },
   "outputs": [
    {
     "data": {
      "text/plain": [
       "-1.0"
      ]
     },
     "execution_count": 82,
     "metadata": {},
     "output_type": "execute_result"
    }
   ],
   "source": [
    "Yang(np.array([0,0]))"
   ]
  },
  {
   "cell_type": "code",
   "execution_count": null,
   "metadata": {
    "ExecuteTime": {
     "end_time": "2019-04-19T09:40:54.398413Z",
     "start_time": "2019-04-19T09:40:54.392865Z"
    }
   },
   "outputs": [],
   "source": [
    "x = np.random.uniform(0,1,(1,6))[0]\n",
    "x"
   ]
  },
  {
   "cell_type": "code",
   "execution_count": 47,
   "metadata": {
    "ExecuteTime": {
     "end_time": "2019-04-19T11:20:06.836110Z",
     "start_time": "2019-04-19T11:20:06.830925Z"
    }
   },
   "outputs": [
    {
     "data": {
      "text/plain": [
       "3.5999999999999996"
      ]
     },
     "execution_count": 47,
     "metadata": {},
     "output_type": "execute_result"
    }
   ],
   "source": [
    "np.prod(np.array([1.2,3.0]))"
   ]
  },
  {
   "cell_type": "code",
   "execution_count": null,
   "metadata": {},
   "outputs": [],
   "source": []
  }
 ],
 "metadata": {
  "kernelspec": {
   "display_name": "Python 3",
   "language": "python",
   "name": "python3"
  },
  "language_info": {
   "codemirror_mode": {
    "name": "ipython",
    "version": 3
   },
   "file_extension": ".py",
   "mimetype": "text/x-python",
   "name": "python",
   "nbconvert_exporter": "python",
   "pygments_lexer": "ipython3",
   "version": "3.6.1"
  }
 },
 "nbformat": 4,
 "nbformat_minor": 2
}
